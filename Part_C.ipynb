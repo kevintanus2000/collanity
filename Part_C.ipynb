{
  "nbformat": 4,
  "nbformat_minor": 0,
  "metadata": {
    "colab": {
      "provenance": []
    },
    "kernelspec": {
      "name": "python3",
      "display_name": "Python 3"
    },
    "language_info": {
      "name": "python"
    }
  },
  "cells": [
    {
      "cell_type": "code",
      "execution_count": 10,
      "metadata": {
        "colab": {
          "base_uri": "https://localhost:8080/"
        },
        "id": "JouoIFnTzOl0",
        "outputId": "60e97327-7068-4be7-f63c-a4f816e7fb99"
      },
      "outputs": [
        {
          "output_type": "stream",
          "name": "stdout",
          "text": [
            "Berdasarkan Ketinggian Dinding Pada Array ( [8, 8, 5, 7, 9, 8, 7, 4, 8] ) , Maka Diperoleh Jumlah Minimum Blok Untuk Membangun Dinding Yaitu ' 7 ' Bagian Blok\n"
          ]
        }
      ],
      "source": [
        "T = [8, 8, 5, 7, 9, 8, 7, 4, 8]\n",
        "temp = []\n",
        "output = 0\n",
        "\n",
        "for i,value in enumerate(T):\n",
        "  if i == 0:\n",
        "    output += 1\n",
        "    temp.append(value)\n",
        "  else:\n",
        "    for j,value2 in reversed(list(enumerate(temp))):\n",
        "      if value > value2:\n",
        "        output += 1\n",
        "        break\n",
        "      else:\n",
        "        if value != value2 and j == 0:\n",
        "          output += 1\n",
        "        elif value == value2:\n",
        "          break\n",
        "    temp.append(value)\n",
        "print(\"Berdasarkan Ketinggian Dinding Pada Array (\", T , \") , Maka Diperoleh Jumlah Minimum Blok Untuk Membangun Dinding Yaitu '\", output , \"' Bagian Blok\")"
      ]
    }
  ]
}