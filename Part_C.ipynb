{
  "nbformat": 4,
  "nbformat_minor": 0,
  "metadata": {
    "colab": {
      "provenance": []
    },
    "kernelspec": {
      "name": "python3",
      "display_name": "Python 3"
    },
    "language_info": {
      "name": "python"
    }
  },
  "cells": [
    {
      "cell_type": "code",
      "execution_count": 11,
      "metadata": {
        "colab": {
          "base_uri": "https://localhost:8080/"
        },
        "id": "JouoIFnTzOl0",
        "outputId": "5fd88740-4e30-4693-9668-034430cba4d6"
      },
      "outputs": [
        {
          "output_type": "stream",
          "name": "stdout",
          "text": [
            "Berdasarkan Ketinggian Dinding Pada Array ( [8, 8, 5, 7, 9, 8, 7, 4, 8] ) , Maka Diperoleh Jumlah Minimum Blok Untuk Membangun Dinding Yaitu ' 7 ' Bagian Blok\n"
          ]
        }
      ],
      "source": [
        "def solution(array):\n",
        "  temp = []\n",
        "  output = 0\n",
        "\n",
        "  for i,value in enumerate(Array):\n",
        "    if i == 0:\n",
        "      output += 1\n",
        "      temp.append(value)\n",
        "    else:\n",
        "      for j,value2 in reversed(list(enumerate(temp))):\n",
        "        if value > value2:\n",
        "          output += 1\n",
        "          break\n",
        "        else:\n",
        "          if value != value2 and j == 0:\n",
        "            output += 1\n",
        "          elif value == value2:\n",
        "            break\n",
        "      temp.append(value)\n",
        "  return output\n",
        "\n",
        "Array = [8, 8, 5, 7, 9, 8, 7, 4, 8]\n",
        "print(\"Berdasarkan Ketinggian Dinding Pada Array (\", Array , \") , Maka Diperoleh Jumlah Minimum Blok Untuk Membangun Dinding Yaitu '\", solution(Array) , \"' Bagian Blok\")"
      ]
    },
    {
      "cell_type": "code",
      "source": [],
      "metadata": {
        "id": "PrJUuevKB8Hn"
      },
      "execution_count": null,
      "outputs": []
    }
  ]
}